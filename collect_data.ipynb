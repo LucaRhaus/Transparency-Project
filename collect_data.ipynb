{
 "cells": [
  {
   "cell_type": "markdown",
   "metadata": {},
   "source": [
    "# Term Paper Project: EU Transparency Register\n",
    "\n",
    "Research Question: Which lobby groups have been in contanct with members of the European Commission (EC) or the Directorates-Generale (DG) ?"
   ]
  },
  {
   "cell_type": "code",
   "execution_count": 29,
   "metadata": {
    "ExecuteTime": {
     "end_time": "2025-03-18T21:39:18.879105Z",
     "start_time": "2025-03-18T21:39:18.303281Z"
    }
   },
   "outputs": [],
   "source": [
    "# load packages\n",
    "import pandas as pd\n",
    "import numpy as np\n",
    "import os"
   ]
  },
  {
   "cell_type": "markdown",
   "metadata": {},
   "source": [
    "# Load & Transform Data\n",
    "- Load Data from Transparency register\n",
    "- filter for Meetings within the relevant time period"
   ]
  },
  {
   "cell_type": "code",
   "execution_count": 30,
   "metadata": {
    "ExecuteTime": {
     "end_time": "2025-03-18T20:58:46.711707Z",
     "start_time": "2025-03-18T20:58:43.806638Z"
    }
   },
   "outputs": [],
   "source": [
    "# load data\n",
    "\n",
    "meetings_ec = pd.read_excel(\"./original_data/Meetings of Commission representatives of the Von der Leyen Commission (2019-2024).xlsx\", header=1)\n",
    "meetings_df = pd.read_excel(\"./original_data/Meetings of Directors-General of the European Commission.xlsx\", header=1)\n",
    "\n",
    "# transform subject column to lower case to improve keyword search\n",
    "meetings_ec[\"Subject of the meeting\"] = meetings_ec[\"Subject of the meeting\"].str.lower()\n",
    "meetings_df[\"Subject of the meeting\"] = meetings_df[\"Subject of the meeting\"].str.lower()\n",
    "\n",
    "# filter for entries between \n",
    "min_date = \"2020-06-01\"\n",
    "# max_date = \"2023-04-18\"\n",
    "max_date = \"2023-09-21\"\n",
    "\n",
    "meetings_df['Date of meeting'] = pd.to_datetime(meetings_df['Date of meeting'], format=\"%Y-%m-%d\")\n",
    "meetings_ec['Date of meeting'] = pd.to_datetime(meetings_ec['Date of meeting'], format=\"%Y-%m-%d\")\n",
    "\n",
    "\n",
    "meetings_df = meetings_df.loc[(meetings_df['Date of meeting'] >= min_date)\n",
    "                     & (meetings_df['Date of meeting'] <= max_date)]\n",
    "\n",
    "meetings_ec = meetings_ec.loc[(meetings_ec['Date of meeting'] >= min_date)\n",
    "                     & (meetings_ec['Date of meeting'] <= max_date)]\n",
    "\n"
   ]
  },
  {
   "cell_type": "code",
   "execution_count": 31,
   "metadata": {},
   "outputs": [],
   "source": [
    "# select all relevant meetings by filtering for keywords in the column \"Subject of the meeting\"\n",
    "\n",
    "chips_act_keywords = [\"chips\", \"semiconduct\", \"chip\", \"2023/1781\", \"microelectronic\", \"foundry\", \"advanced manufacturing\", \"ipcei\", \"node\", \"semion\", \"wafer\"]\n",
    "keywords_to_exclude = [\"schiphol\", \"mobility ipcei\", \"ipcei, hydrogen\", \"ipcei electrolyzer\", \n",
    "                       \"discussion on ipceis\", \"h2 ipcei\", \"snam would like to exchange on the work on the ipcei\", \n",
    "                       \"battery ipceis\", \"energy markets and ipcei\", \"overall discussion on energy matters, ipcei, temporary framework\", \n",
    "                       \"courtesy meeting; ipcei\", \"supernode presented its new technology under development\"]\n",
    "\n",
    "chips_meetings_ec = meetings_ec[\n",
    "    (meetings_ec[\"Subject of the meeting\"].str.contains('|'.join(chips_act_keywords), regex=True))  \n",
    "    & (meetings_ec[\"Subject of the meeting\"].str.contains('|'.join(keywords_to_exclude), regex=True) == False) \n",
    "    ].copy()\n",
    "chips_meetings_dg = meetings_df[\n",
    "    (meetings_df[\"Subject of the meeting\"].str.contains('|'.join(chips_act_keywords), regex=True)) \n",
    "    & (meetings_df[\"Subject of the meeting\"].str.contains('|'.join(keywords_to_exclude), regex=True) == False) \n",
    "    ].copy()\n",
    "\n",
    "# Merge DG and EC dataframe\n",
    "\n",
    "# rename columns, drop interest group name column (group names are retrieved from register later), create col to indicate whether meeting took place with EC or DG rep.\n",
    "chips_meetings_dg.rename(columns={\"Name of DG - full name\": \"Name of DG / EC cabinet\"}, inplace=True)\n",
    "chips_meetings_ec.rename(columns={\"Name of cabinet\": \"Name of DG / EC cabinet\"}, inplace=True)\n",
    "chips_meetings_dg.loc[:, \"EC_or_DG\"] = \"DG\"\n",
    "chips_meetings_ec.loc[:, \"EC_or_DG\"] = \"EC\"\n",
    "\n",
    "\n",
    "chips_meetings = pd.concat([chips_meetings_ec, chips_meetings_dg])\n",
    "chips_meetings.drop(columns=[\"Name of interest representative\"], inplace=True)\n",
    "\n"
   ]
  },
  {
   "cell_type": "code",
   "execution_count": 32,
   "metadata": {},
   "outputs": [
    {
     "name": "stdout",
     "output_type": "stream",
     "text": [
      "./original_data\\Organisations in Transparency Register - 2019 - JANUARY.xls\n",
      "./original_data\\Organisations in Transparency Register - 2019 - JUNE.xls\n",
      "./original_data\\Organisations in Transparency Register - 2020 - JANUARY.xls\n",
      "./original_data\\Organisations in Transparency Register - 2020 - JUNE.xls\n",
      "./original_data\\Organisations in Transparency Register - 2021 - JANUARY.xls\n",
      "./original_data\\Organisations in Transparency Register - 2021 - JUNE.xls\n",
      "./original_data\\Organisations in Transparency Register - 2022 - JANUARY.xls\n",
      "./original_data\\Organisations in Transparency Register - 2022 - JUNE.xls\n",
      "./original_data\\Organisations in Transparency Register - 2023 - JANUARY.xls\n",
      "./original_data\\Organisations in Transparency Register - 2023 - JUNE.xls\n",
      "./original_data\\Organisations in Transparency Register - 2024 - JAN.xls\n"
     ]
    }
   ],
   "source": [
    "# load transparency register\n",
    "\n",
    "transparency_register = pd.DataFrame(columns=[\"Transparency register ID\", \"Head Office\"])\n",
    "\n",
    "# Head office country, Identification number:\n",
    "\n",
    "for entry in os.scandir(\"./original_data\"):  \n",
    "    if entry.is_file() and entry.name.endswith(\".xls\"):  # check if it's a xlsx file\n",
    "        print(entry.path)\n",
    "        xls = pd.read_excel(entry.path)\n",
    "\n",
    "        if \"Identification number:\" in xls.columns:\n",
    "            xls = xls[[\"Head office country\", \"Identification number:\", \"(Organisation) name\"]] \n",
    "            xls.rename(columns={\"Identification number:\": \"Transparency register ID\",\n",
    "                                 \"Head office country\": \"Head Office\"}, inplace=True)\n",
    "        elif \"Identification number\" in xls.columns:\n",
    "            xls = xls[[\"Head office country\", \"Identification number\", \"(Organisation) name\"]]\n",
    "            xls.rename(columns={\"Identification number\": \"Transparency register ID\",\n",
    "                                 \"Head office country\": \"Head Office\"}, inplace=True)\n",
    "        elif \"Identification code\" in xls.columns:\n",
    "            xls = xls[[\"Head office country\", \"Identification code\", \"(Organisation) name\"]]\n",
    "            xls.rename(columns={\"Identification code\": \"Transparency register ID\",\n",
    "                                 \"Head office country\": \"Head Office\"}, inplace=True)\n",
    "        else:\n",
    "            raise KeyError(\"ERROR MISSING TRANSPARENCY REGISTER ID COLUMN!\")\n",
    "        transparency_register = pd.concat([transparency_register, xls]).drop_duplicates(subset=\"Transparency register ID\")\n",
    "\n",
    "transparency_register[\"Head Office\"] = transparency_register[\"Head Office\"].str.upper()\n",
    "transparency_register.rename(columns={\"(Organisation) name\": \"Interest Group Name\"}, inplace=True)\n",
    "# transparency_register.to_excel(\"./original_data/merged_register.xlsx\", index=False)\n",
    "\n"
   ]
  },
  {
   "cell_type": "code",
   "execution_count": 33,
   "metadata": {},
   "outputs": [],
   "source": [
    "# Handle Meetings with multiple entries in Register ID Column: Create as many rows as there are interests groups participating\n",
    "\n",
    "# iterate through rows with multiple REG in the same cell\n",
    "new_rows = pd.DataFrame(columns=chips_meetings.columns)\n",
    "\n",
    "for index, row in chips_meetings[chips_meetings[\"Transparency register ID\"].str.contains(\",\")].iterrows():\n",
    "    reg_ids = str(row[\"Transparency register ID\"]).split(\",\")\n",
    "    reg_id_rows = pd.DataFrame(columns=new_rows.columns)\n",
    "    \n",
    "    for id in reg_ids:\n",
    "        row[\"Transparency register ID\"] = id\n",
    "        reg_id_rows = pd.concat([reg_id_rows, row.to_frame().transpose()])\n",
    "    \n",
    "    new_rows = pd.concat([new_rows, reg_id_rows])\n",
    "\n",
    "chips_meetings_appended = pd.concat([chips_meetings[chips_meetings[\"Transparency register ID\"].str.contains(\",\") == False], new_rows])\n",
    "\n",
    "meetings_df = pd.merge(left=chips_meetings_appended, right=transparency_register, how=\"left\", on=\"Transparency register ID\")\n",
    "\n",
    "# reorder columns\n",
    "meetings_df = meetings_df.iloc[:, [7, 0, 1, 8, 2, 10, 5, 9, 6, 3, 4]]\n"
   ]
  },
  {
   "cell_type": "code",
   "execution_count": 34,
   "metadata": {},
   "outputs": [],
   "source": [
    "# export all interest groups to xlsx for categorization and name cleaning\n",
    "\n",
    "interestgroups_names = meetings_df[[\"Transparency register ID\", \"Interest Group Name\"]].drop_duplicates()\n",
    "interestgroups_names.to_excel(\"./manually_edited_data/interest_groups_categories.xlsx\", index=False)"
   ]
  },
  {
   "cell_type": "markdown",
   "metadata": {},
   "source": [
    "## Add Region column and drop column \"Interest Group Name\""
   ]
  },
  {
   "cell_type": "code",
   "execution_count": 36,
   "metadata": {},
   "outputs": [
    {
     "ename": "KeyError",
     "evalue": "\"['Interest Group Name'] not found in axis\"",
     "output_type": "error",
     "traceback": [
      "\u001b[31m---------------------------------------------------------------------------\u001b[39m",
      "\u001b[31mKeyError\u001b[39m                                  Traceback (most recent call last)",
      "\u001b[36mCell\u001b[39m\u001b[36m \u001b[39m\u001b[32mIn[36]\u001b[39m\u001b[32m, line 20\u001b[39m\n\u001b[32m     17\u001b[39m meetings_df[\u001b[33m\"\u001b[39m\u001b[33mRegion\u001b[39m\u001b[33m\"\u001b[39m] = meetings_df[\u001b[33m\"\u001b[39m\u001b[33mHead Office\u001b[39m\u001b[33m\"\u001b[39m].map(mapping)\n\u001b[32m     19\u001b[39m \u001b[38;5;66;03m# drop Name Column to use cleaned names from categorized_df\u001b[39;00m\n\u001b[32m---> \u001b[39m\u001b[32m20\u001b[39m meetings_df = \u001b[43mmeetings_df\u001b[49m\u001b[43m.\u001b[49m\u001b[43mdrop\u001b[49m\u001b[43m(\u001b[49m\u001b[33;43m\"\u001b[39;49m\u001b[33;43mInterest Group Name\u001b[39;49m\u001b[33;43m\"\u001b[39;49m\u001b[43m,\u001b[49m\u001b[43m \u001b[49m\u001b[43maxis\u001b[49m\u001b[43m=\u001b[49m\u001b[32;43m1\u001b[39;49m\u001b[43m)\u001b[49m \n",
      "\u001b[36mFile \u001b[39m\u001b[32md:\\Development\\Python Data Science\\Transparency Project\\.venv\\Lib\\site-packages\\pandas\\core\\frame.py:5581\u001b[39m, in \u001b[36mDataFrame.drop\u001b[39m\u001b[34m(self, labels, axis, index, columns, level, inplace, errors)\u001b[39m\n\u001b[32m   5433\u001b[39m \u001b[38;5;28;01mdef\u001b[39;00m\u001b[38;5;250m \u001b[39m\u001b[34mdrop\u001b[39m(\n\u001b[32m   5434\u001b[39m     \u001b[38;5;28mself\u001b[39m,\n\u001b[32m   5435\u001b[39m     labels: IndexLabel | \u001b[38;5;28;01mNone\u001b[39;00m = \u001b[38;5;28;01mNone\u001b[39;00m,\n\u001b[32m   (...)\u001b[39m\u001b[32m   5442\u001b[39m     errors: IgnoreRaise = \u001b[33m\"\u001b[39m\u001b[33mraise\u001b[39m\u001b[33m\"\u001b[39m,\n\u001b[32m   5443\u001b[39m ) -> DataFrame | \u001b[38;5;28;01mNone\u001b[39;00m:\n\u001b[32m   5444\u001b[39m \u001b[38;5;250m    \u001b[39m\u001b[33;03m\"\"\"\u001b[39;00m\n\u001b[32m   5445\u001b[39m \u001b[33;03m    Drop specified labels from rows or columns.\u001b[39;00m\n\u001b[32m   5446\u001b[39m \n\u001b[32m   (...)\u001b[39m\u001b[32m   5579\u001b[39m \u001b[33;03m            weight  1.0     0.8\u001b[39;00m\n\u001b[32m   5580\u001b[39m \u001b[33;03m    \"\"\"\u001b[39;00m\n\u001b[32m-> \u001b[39m\u001b[32m5581\u001b[39m     \u001b[38;5;28;01mreturn\u001b[39;00m \u001b[38;5;28;43msuper\u001b[39;49m\u001b[43m(\u001b[49m\u001b[43m)\u001b[49m\u001b[43m.\u001b[49m\u001b[43mdrop\u001b[49m\u001b[43m(\u001b[49m\n\u001b[32m   5582\u001b[39m \u001b[43m        \u001b[49m\u001b[43mlabels\u001b[49m\u001b[43m=\u001b[49m\u001b[43mlabels\u001b[49m\u001b[43m,\u001b[49m\n\u001b[32m   5583\u001b[39m \u001b[43m        \u001b[49m\u001b[43maxis\u001b[49m\u001b[43m=\u001b[49m\u001b[43maxis\u001b[49m\u001b[43m,\u001b[49m\n\u001b[32m   5584\u001b[39m \u001b[43m        \u001b[49m\u001b[43mindex\u001b[49m\u001b[43m=\u001b[49m\u001b[43mindex\u001b[49m\u001b[43m,\u001b[49m\n\u001b[32m   5585\u001b[39m \u001b[43m        \u001b[49m\u001b[43mcolumns\u001b[49m\u001b[43m=\u001b[49m\u001b[43mcolumns\u001b[49m\u001b[43m,\u001b[49m\n\u001b[32m   5586\u001b[39m \u001b[43m        \u001b[49m\u001b[43mlevel\u001b[49m\u001b[43m=\u001b[49m\u001b[43mlevel\u001b[49m\u001b[43m,\u001b[49m\n\u001b[32m   5587\u001b[39m \u001b[43m        \u001b[49m\u001b[43minplace\u001b[49m\u001b[43m=\u001b[49m\u001b[43minplace\u001b[49m\u001b[43m,\u001b[49m\n\u001b[32m   5588\u001b[39m \u001b[43m        \u001b[49m\u001b[43merrors\u001b[49m\u001b[43m=\u001b[49m\u001b[43merrors\u001b[49m\u001b[43m,\u001b[49m\n\u001b[32m   5589\u001b[39m \u001b[43m    \u001b[49m\u001b[43m)\u001b[49m\n",
      "\u001b[36mFile \u001b[39m\u001b[32md:\\Development\\Python Data Science\\Transparency Project\\.venv\\Lib\\site-packages\\pandas\\core\\generic.py:4788\u001b[39m, in \u001b[36mNDFrame.drop\u001b[39m\u001b[34m(self, labels, axis, index, columns, level, inplace, errors)\u001b[39m\n\u001b[32m   4786\u001b[39m \u001b[38;5;28;01mfor\u001b[39;00m axis, labels \u001b[38;5;129;01min\u001b[39;00m axes.items():\n\u001b[32m   4787\u001b[39m     \u001b[38;5;28;01mif\u001b[39;00m labels \u001b[38;5;129;01mis\u001b[39;00m \u001b[38;5;129;01mnot\u001b[39;00m \u001b[38;5;28;01mNone\u001b[39;00m:\n\u001b[32m-> \u001b[39m\u001b[32m4788\u001b[39m         obj = \u001b[43mobj\u001b[49m\u001b[43m.\u001b[49m\u001b[43m_drop_axis\u001b[49m\u001b[43m(\u001b[49m\u001b[43mlabels\u001b[49m\u001b[43m,\u001b[49m\u001b[43m \u001b[49m\u001b[43maxis\u001b[49m\u001b[43m,\u001b[49m\u001b[43m \u001b[49m\u001b[43mlevel\u001b[49m\u001b[43m=\u001b[49m\u001b[43mlevel\u001b[49m\u001b[43m,\u001b[49m\u001b[43m \u001b[49m\u001b[43merrors\u001b[49m\u001b[43m=\u001b[49m\u001b[43merrors\u001b[49m\u001b[43m)\u001b[49m\n\u001b[32m   4790\u001b[39m \u001b[38;5;28;01mif\u001b[39;00m inplace:\n\u001b[32m   4791\u001b[39m     \u001b[38;5;28mself\u001b[39m._update_inplace(obj)\n",
      "\u001b[36mFile \u001b[39m\u001b[32md:\\Development\\Python Data Science\\Transparency Project\\.venv\\Lib\\site-packages\\pandas\\core\\generic.py:4830\u001b[39m, in \u001b[36mNDFrame._drop_axis\u001b[39m\u001b[34m(self, labels, axis, level, errors, only_slice)\u001b[39m\n\u001b[32m   4828\u001b[39m         new_axis = axis.drop(labels, level=level, errors=errors)\n\u001b[32m   4829\u001b[39m     \u001b[38;5;28;01melse\u001b[39;00m:\n\u001b[32m-> \u001b[39m\u001b[32m4830\u001b[39m         new_axis = \u001b[43maxis\u001b[49m\u001b[43m.\u001b[49m\u001b[43mdrop\u001b[49m\u001b[43m(\u001b[49m\u001b[43mlabels\u001b[49m\u001b[43m,\u001b[49m\u001b[43m \u001b[49m\u001b[43merrors\u001b[49m\u001b[43m=\u001b[49m\u001b[43merrors\u001b[49m\u001b[43m)\u001b[49m\n\u001b[32m   4831\u001b[39m     indexer = axis.get_indexer(new_axis)\n\u001b[32m   4833\u001b[39m \u001b[38;5;66;03m# Case for non-unique axis\u001b[39;00m\n\u001b[32m   4834\u001b[39m \u001b[38;5;28;01melse\u001b[39;00m:\n",
      "\u001b[36mFile \u001b[39m\u001b[32md:\\Development\\Python Data Science\\Transparency Project\\.venv\\Lib\\site-packages\\pandas\\core\\indexes\\base.py:7070\u001b[39m, in \u001b[36mIndex.drop\u001b[39m\u001b[34m(self, labels, errors)\u001b[39m\n\u001b[32m   7068\u001b[39m \u001b[38;5;28;01mif\u001b[39;00m mask.any():\n\u001b[32m   7069\u001b[39m     \u001b[38;5;28;01mif\u001b[39;00m errors != \u001b[33m\"\u001b[39m\u001b[33mignore\u001b[39m\u001b[33m\"\u001b[39m:\n\u001b[32m-> \u001b[39m\u001b[32m7070\u001b[39m         \u001b[38;5;28;01mraise\u001b[39;00m \u001b[38;5;167;01mKeyError\u001b[39;00m(\u001b[33mf\u001b[39m\u001b[33m\"\u001b[39m\u001b[38;5;132;01m{\u001b[39;00mlabels[mask].tolist()\u001b[38;5;132;01m}\u001b[39;00m\u001b[33m not found in axis\u001b[39m\u001b[33m\"\u001b[39m)\n\u001b[32m   7071\u001b[39m     indexer = indexer[~mask]\n\u001b[32m   7072\u001b[39m \u001b[38;5;28;01mreturn\u001b[39;00m \u001b[38;5;28mself\u001b[39m.delete(indexer)\n",
      "\u001b[31mKeyError\u001b[39m: \"['Interest Group Name'] not found in axis\""
     ]
    }
   ],
   "source": [
    "mapping = {\n",
    "    \"AUSTRIA\": \"EUROPE\",\n",
    "    \"BELGIUM\": \"EUROPE\",\n",
    "    \"DENMARK\": \"EUROPE\",\n",
    "    \"FRANCE\": \"EUROPE\",\n",
    "    \"GERMANY\": \"EUROPE\",\n",
    "    \"ITALY\": \"EUROPE\",\n",
    "    \"NETHERLANDS\": \"EUROPE\",\n",
    "    \"NORWAY\": \"EUROPE (NON-EU)\",\n",
    "    \"SPAIN\": \"EUROPE\",\n",
    "    \"SWEDEN\": \"EUROPE\",\n",
    "    \"TAIWAN\": \"ASIA\",\n",
    "    \"UNITED KINGDOM\": \"EUROPE (NON-EU)\",\n",
    "    \"UNITED STATES\": \"USA\"\n",
    "}\n",
    "\n",
    "meetings_df[\"Region\"] = meetings_df[\"Head Office\"].map(mapping)\n",
    "\n",
    "# drop Name Column to use cleaned names from categorized_df\n",
    "meetings_df = meetings_df.drop(\"Interest Group Name\", axis=1) \n"
   ]
  },
  {
   "cell_type": "markdown",
   "metadata": {},
   "source": [
    "## Read manually edited data and merge into main dataframe \"meeting_df\""
   ]
  },
  {
   "cell_type": "code",
   "execution_count": 38,
   "metadata": {},
   "outputs": [],
   "source": [
    "categorized_df = pd.read_excel(\"./manually_edited_data/interest_groups_categories_result.xlsx\", sheet_name=\"data\")\n",
    "categorized_df = categorized_df[[\"Transparency register ID\", \"Interest Group Name\", \"Category Broad\", \"Category Detailed\"]]\n",
    "\n",
    "final_data = meetings_df.merge(right=categorized_df, \n",
    "                                how=\"left\", \n",
    "                                on=[\"Transparency register ID\"])\n",
    "\n",
    "final_data.to_csv(\"./final_data/final_meetings_data.csv\", index = False)"
   ]
  }
 ],
 "metadata": {
  "kernelspec": {
   "display_name": ".venv",
   "language": "python",
   "name": "python3"
  },
  "language_info": {
   "codemirror_mode": {
    "name": "ipython",
    "version": 3
   },
   "file_extension": ".py",
   "mimetype": "text/x-python",
   "name": "python",
   "nbconvert_exporter": "python",
   "pygments_lexer": "ipython3",
   "version": "3.13.0"
  }
 },
 "nbformat": 4,
 "nbformat_minor": 2
}

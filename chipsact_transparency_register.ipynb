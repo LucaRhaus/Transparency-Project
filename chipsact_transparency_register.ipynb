{
 "cells": [
  {
   "cell_type": "markdown",
   "metadata": {},
   "source": [
    "# Term Paper Project: EU Transparency Register\n",
    "\n",
    "Research Question: Which lobby groups have been in contanct with members of the European Commission (EC) or the Directorates-Generale (DG) ?"
   ]
  },
  {
   "cell_type": "code",
   "execution_count": 35,
   "metadata": {},
   "outputs": [],
   "source": [
    "# load packages\n",
    "import pandas as pd\n",
    "import numpy as np\n",
    "import os"
   ]
  },
  {
   "cell_type": "markdown",
   "metadata": {},
   "source": [
    "# Load & Transform Data\n",
    "- Load Data from Transparency register\n",
    "- filter for Meetings within the relevant time period"
   ]
  },
  {
   "cell_type": "code",
   "execution_count": 36,
   "metadata": {},
   "outputs": [],
   "source": [
    "# load data\n",
    "\n",
    "meetings_ec = pd.read_excel(\"./data/Meetings of Commission representatives of the Von der Leyen Commission (2019-2024).xlsx\", header=1)\n",
    "meetings_df = pd.read_excel(\"./data/Meetings of Directors-General of the European Commission.xlsx\", header=1)\n",
    "\n",
    "# transform subject column to lower case to improve keyword search\n",
    "meetings_ec[\"Subject of the meeting\"] = meetings_ec[\"Subject of the meeting\"].str.lower()\n",
    "meetings_df[\"Subject of the meeting\"] = meetings_df[\"Subject of the meeting\"].str.lower()\n",
    "\n",
    "# filter for entries between \n",
    "min_date = \"2020-06-01\"\n",
    "max_date = \"2023-04-18\"\n",
    "\n",
    "meetings_df['Date of meeting'] = pd.to_datetime(meetings_df['Date of meeting'], format=\"%Y-%m-%d\")\n",
    "meetings_ec['Date of meeting'] = pd.to_datetime(meetings_ec['Date of meeting'], format=\"%Y-%m-%d\")\n",
    "\n",
    "\n",
    "meetings_df = meetings_df.loc[(meetings_df['Date of meeting'] >= min_date)\n",
    "                     & (meetings_df['Date of meeting'] <= max_date)]\n",
    "\n",
    "meetings_ec = meetings_ec.loc[(meetings_ec['Date of meeting'] >= min_date)\n",
    "                     & (meetings_ec['Date of meeting'] <= max_date)]\n",
    "\n"
   ]
  },
  {
   "cell_type": "code",
   "execution_count": 37,
   "metadata": {},
   "outputs": [],
   "source": [
    "# select all relevant meetings by filtering for keywords in the column \"Subject of the meeting\"\n",
    "\n",
    "chips_act_keywords = [\"chips\", \"semiconduct\", \"chip\", \"2023/1781\", \"microelectronic\", \"foundry\", \"advanced manufacturing\", \"ipcei\", \"node\", \"semion\", \"wafer\"]\n",
    "keywords_to_exclude = [\"schiphol\", \"mobility ipcei\", \"ipcei, hydrogen\", \"ipcei electrolyzer\", \"discussion on ipceis\", \"h2 ipcei\"]\n",
    "\n",
    "chips_meetings_ec = meetings_ec[\n",
    "    (meetings_ec[\"Subject of the meeting\"].str.contains('|'.join(chips_act_keywords), regex=True))  \n",
    "    & (meetings_ec[\"Subject of the meeting\"].str.contains('|'.join(keywords_to_exclude), regex=True) == False) \n",
    "    ].copy()\n",
    "chips_meetings_dg = meetings_df[\n",
    "    (meetings_df[\"Subject of the meeting\"].str.contains('|'.join(chips_act_keywords), regex=True)) \n",
    "    & (meetings_df[\"Subject of the meeting\"].str.contains('|'.join(keywords_to_exclude), regex=True) == False) \n",
    "    ].copy()\n",
    "\n",
    "# Merge DG and EC dataframe\n",
    "\n",
    "# rename columns, drop interest group name column (group names are retrieved from register later), create col to indicate whether meeting took place with EC or DG rep.\n",
    "chips_meetings_dg.rename(columns={\"Name of DG - full name\": \"Name of DG / EC cabinet\"}, inplace=True)\n",
    "chips_meetings_ec.rename(columns={\"Name of cabinet\": \"Name of DG / EC cabinet\"}, inplace=True)\n",
    "chips_meetings_dg.loc[:, \"EC_or_DG\"] = \"DG\"\n",
    "chips_meetings_ec.loc[:, \"EC_or_DG\"] = \"EC\"\n",
    "\n",
    "\n",
    "chips_meetings = pd.concat([chips_meetings_ec, chips_meetings_dg])\n",
    "\n",
    "\n"
   ]
  },
  {
   "cell_type": "code",
   "execution_count": 38,
   "metadata": {},
   "outputs": [
    {
     "name": "stdout",
     "output_type": "stream",
     "text": [
      "./data\\Organisations in Transparency Register - 2019 - JANUARY.xls\n",
      "./data\\Organisations in Transparency Register - 2019 - JUNE.xls\n",
      "./data\\Organisations in Transparency Register - 2020 - JANUARY.xls\n",
      "./data\\Organisations in Transparency Register - 2020 - JUNE.xls\n",
      "./data\\Organisations in Transparency Register - 2021 - JANUARY.xls\n",
      "./data\\Organisations in Transparency Register - 2021 - JUNE.xls\n",
      "./data\\Organisations in Transparency Register - 2022 - JANUARY.xls\n",
      "./data\\Organisations in Transparency Register - 2022 - JUNE.xls\n",
      "./data\\Organisations in Transparency Register - 2023 - JANUARY.xls\n",
      "./data\\Organisations in Transparency Register - 2023 - JUNE.xls\n",
      "./data\\Organisations in Transparency Register - 2024 - JAN.xls\n"
     ]
    }
   ],
   "source": [
    "# load transparency register\n",
    "\n",
    "transparency_register = pd.DataFrame(columns=[\"Transparency register ID\", \"Head Office\"])\n",
    "\n",
    "# Head office country, Identification number:\n",
    "\n",
    "\n",
    "for entry in os.scandir(\"./data\"):  \n",
    "    if entry.is_file() and entry.name.endswith(\".xls\"):  # check if it's a xlsx file\n",
    "        print(entry.path)\n",
    "        xls = pd.read_excel(entry.path)\n",
    "\n",
    "        if \"Identification number:\" in xls.columns:\n",
    "            xls = xls[[\"Head office country\", \"Identification number:\", \"(Organisation) name\"]] \n",
    "            xls.rename(columns={\"Identification number:\": \"Transparency register ID\",\n",
    "                                 \"Head office country\": \"Head Office\"}, inplace=True)\n",
    "        elif \"Identification number\" in xls.columns:\n",
    "            xls = xls[[\"Head office country\", \"Identification number\", \"(Organisation) name\"]]\n",
    "            xls.rename(columns={\"Identification number\": \"Transparency register ID\",\n",
    "                                 \"Head office country\": \"Head Office\"}, inplace=True)\n",
    "        elif \"Identification code\" in xls.columns:\n",
    "            xls = xls[[\"Head office country\", \"Identification code\", \"(Organisation) name\"]]\n",
    "            xls.rename(columns={\"Identification code\": \"Transparency register ID\",\n",
    "                                 \"Head office country\": \"Head Office\"}, inplace=True)\n",
    "        else:\n",
    "            raise KeyError(\"ERROR MISSING TRANSPARENCY REGISTER ID COLUMN!\")\n",
    "        transparency_register = pd.concat([transparency_register, xls]).drop_duplicates(subset=\"Transparency register ID\")\n",
    "\n",
    "transparency_register[\"Head Office\"] = transparency_register[\"Head Office\"].str.upper()\n",
    "# transparency_register.to_excel(\"./data/merged_register.xlsx\", index=False)\n",
    "\n"
   ]
  },
  {
   "cell_type": "code",
   "execution_count": null,
   "metadata": {},
   "outputs": [],
   "source": [
    "# Handle Meetings with multiple entries in Register ID Column: Create as many rows as there are interests groups participating\n",
    "\n",
    "# iterate through rows with multiple REG in the same cell\n",
    "new_rows = pd.DataFrame(columns=chips_meetings.columns)\n",
    "\n",
    "for index, row in chips_meetings[chips_meetings[\"Transparency register ID\"].str.contains(\",\")].iterrows():\n",
    "    reg_ids = str(row[\"Transparency register ID\"]).split(\",\")\n",
    "    reg_id_rows = pd.DataFrame(columns=new_rows.columns)\n",
    "    \n",
    "    for id in reg_ids:\n",
    "        row[\"Transparency register ID\"] = id\n",
    "        reg_id_rows = pd.concat([reg_id_rows, row.to_frame().transpose()])\n",
    "    \n",
    "    new_rows = pd.concat([new_rows, reg_id_rows])\n",
    "\n",
    "chips_meetings_appended = pd.concat([chips_meetings[chips_meetings[\"Transparency register ID\"].str.contains(\",\") == False], new_rows])\n",
    "\n",
    "meetings_df = pd.merge(left=chips_meetings_appended, right=transparency_register, how=\"left\", on=\"Transparency register ID\")\n",
    "\n",
    "\n"
   ]
  }
 ],
 "metadata": {
  "kernelspec": {
   "display_name": ".venv",
   "language": "python",
   "name": "python3"
  },
  "language_info": {
   "codemirror_mode": {
    "name": "ipython",
    "version": 3
   },
   "file_extension": ".py",
   "mimetype": "text/x-python",
   "name": "python",
   "nbconvert_exporter": "python",
   "pygments_lexer": "ipython3",
   "version": "3.13.0"
  }
 },
 "nbformat": 4,
 "nbformat_minor": 2
}

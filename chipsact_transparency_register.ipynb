{
 "cells": [
  {
   "cell_type": "markdown",
   "metadata": {},
   "source": [
    "# Term Paper Project: EU Transparency Register\n",
    "\n",
    "Research Question: Which lobby groups have been in contanct with members of the European Commission (EC) or the Directorates-Generale (DG) ?"
   ]
  },
  {
   "cell_type": "code",
   "execution_count": 28,
   "metadata": {},
   "outputs": [],
   "source": [
    "# load packages\n",
    "import pandas as pd\n",
    "import numpy as np\n",
    "import os"
   ]
  },
  {
   "cell_type": "markdown",
   "metadata": {},
   "source": [
    "# Load & Transform Data\n",
    "- Load Data from Transparency register\n",
    "- filter for Meetings within the relevant time period"
   ]
  },
  {
   "cell_type": "code",
   "execution_count": 22,
   "metadata": {},
   "outputs": [],
   "source": [
    "# load data\n",
    "\n",
    "meetings_ec = pd.read_excel(\"./data/Meetings of Commission representatives of the Von der Leyen Commission (2019-2024).xlsx\", header=1)\n",
    "meetings_dg = pd.read_excel(\"./data/Meetings of Directors-General of the European Commission.xlsx\", header=1)\n",
    "\n",
    "# transform subject column to lower case to improve keyword search\n",
    "meetings_ec[\"Subject of the meeting\"] = meetings_ec[\"Subject of the meeting\"].str.lower()\n",
    "meetings_dg[\"Subject of the meeting\"] = meetings_dg[\"Subject of the meeting\"].str.lower()\n",
    "\n",
    "# filter for entries between \n",
    "min_date = \"2020-06-01\"\n",
    "max_date = \"2023-04-18\"\n",
    "\n",
    "meetings_dg['Date of meeting'] = pd.to_datetime(meetings_dg['Date of meeting'], format=\"%Y-%m-%d\")\n",
    "meetings_ec['Date of meeting'] = pd.to_datetime(meetings_ec['Date of meeting'], format=\"%Y-%m-%d\")\n",
    "\n",
    "\n",
    "meetings_dg = meetings_dg.loc[(meetings_dg['Date of meeting'] >= min_date)\n",
    "                     & (meetings_dg['Date of meeting'] <= max_date)]\n",
    "\n",
    "meetings_ec = meetings_ec.loc[(meetings_ec['Date of meeting'] >= min_date)\n",
    "                     & (meetings_ec['Date of meeting'] <= max_date)]\n",
    "\n"
   ]
  },
  {
   "cell_type": "code",
   "execution_count": null,
   "metadata": {},
   "outputs": [],
   "source": [
    "# select all relevant meetings by filtering for keywords in the column \"Subject of the meeting\"\n",
    "\n",
    "chips_act_keywords = [\"chips\", \"semiconductor\", \"chip\", \"2023/1781\"]\n",
    "keywords_to_exclude = [\"schiphol\"]\n",
    "\n",
    "chips_meetings_ec = meetings_ec[\n",
    "    (meetings_ec[\"Subject of the meeting\"].str.contains('|'.join(chips_act_keywords), regex=True))  \n",
    "    & (meetings_ec[\"Subject of the meeting\"].str.contains('|'.join(keywords_to_exclude), regex=True) == False) \n",
    "]\n",
    "chips_meetings_dg = meetings_dg[\n",
    "    (meetings_dg[\"Subject of the meeting\"].str.contains('|'.join(chips_act_keywords), regex=True)) \n",
    "    & (meetings_dg[\"Subject of the meeting\"].str.contains('|'.join(keywords_to_exclude), regex=True) == False) \n",
    "    ]\n",
    "\n",
    "\n"
   ]
  },
  {
   "cell_type": "code",
   "execution_count": 45,
   "metadata": {},
   "outputs": [
    {
     "name": "stdout",
     "output_type": "stream",
     "text": [
      "./data\\Organisations in Transparency Register - 2019 - JANUARY.xls\n",
      "./data\\Organisations in Transparency Register - 2019 - JUNE.xls\n",
      "./data\\Organisations in Transparency Register - 2020 - JANUARY.xls\n",
      "./data\\Organisations in Transparency Register - 2020 - JUNE.xls\n",
      "./data\\Organisations in Transparency Register - 2021 - JANUARY.xls\n",
      "./data\\Organisations in Transparency Register - 2021 - JUNE.xls\n",
      "./data\\Organisations in Transparency Register - 2022 - JANUARY.xls\n",
      "./data\\Organisations in Transparency Register - 2022 - JUNE.xls\n",
      "./data\\Organisations in Transparency Register - 2023 - JANUARY.xls\n",
      "./data\\Organisations in Transparency Register - 2023 - JUNE.xls\n",
      "./data\\Organisations in Transparency Register - 2024 - JAN.xls\n"
     ]
    }
   ],
   "source": [
    "transparency_register = pd.DataFrame(columns=[\"Transparency register ID\", \"Head Office\"])\n",
    "\n",
    "# Head office country, Identification number:\n",
    "\n",
    "\n",
    "for entry in os.scandir(\"./data\"):  \n",
    "    if entry.is_file() and entry.name.endswith(\".xls\"):  # check if it's a xlsx file\n",
    "        print(entry.path)\n",
    "        xls = pd.read_excel(entry.path)\n",
    "\n",
    "        if \"Identification number:\" in xls.columns:\n",
    "            xls = xls[[\"Head office country\", \"Identification number:\", \"(Organisation) name\"]] \n",
    "            xls.rename(columns={\"Identification number:\": \"Transparency register ID\",\n",
    "                                 \"Head office country\": \"Head Office\"}, inplace=True)\n",
    "        elif \"Identification number\" in xls.columns:\n",
    "            xls = xls[[\"Head office country\", \"Identification number\", \"(Organisation) name\"]]\n",
    "            xls.rename(columns={\"Identification number\": \"Transparency register ID\",\n",
    "                                 \"Head office country\": \"Head Office\"}, inplace=True)\n",
    "        elif \"Identification code\" in xls.columns:\n",
    "            xls = xls[[\"Head office country\", \"Identification code\", \"(Organisation) name\"]]\n",
    "            xls.rename(columns={\"Identification code\": \"Transparency register ID\",\n",
    "                                 \"Head office country\": \"Head Office\"}, inplace=True)\n",
    "        else:\n",
    "            raise KeyError(\"ERROR MISSING TRANSPARENCY REGISTER ID COLUMN!\")\n",
    "        transparency_register = pd.concat([transparency_register, xls]).drop_duplicates(subset=\"Transparency register ID\")\n",
    "\n",
    "transparency_register[\"Head Office\"] = transparency_register[\"Head Office\"].str.upper()\n",
    "transparency_register.to_excel(\"./data/merged_register.xlsx\", index=False)\n",
    "\n"
   ]
  },
  {
   "cell_type": "code",
   "execution_count": null,
   "metadata": {},
   "outputs": [],
   "source": [
    "# TODO: Handle Meetings with multiple entries in Register ID Column: \n",
    "\n",
    "chips_meetings_dg_merged = pd.merge(left=chips_meetings_dg, right=transparency_register, \n",
    "                                    how=\"left\", on=\"Transparency register ID\")\n",
    "\n",
    "\n"
   ]
  }
 ],
 "metadata": {
  "kernelspec": {
   "display_name": ".venv",
   "language": "python",
   "name": "python3"
  },
  "language_info": {
   "codemirror_mode": {
    "name": "ipython",
    "version": 3
   },
   "file_extension": ".py",
   "mimetype": "text/x-python",
   "name": "python",
   "nbconvert_exporter": "python",
   "pygments_lexer": "ipython3",
   "version": "3.13.0"
  }
 },
 "nbformat": 4,
 "nbformat_minor": 2
}
